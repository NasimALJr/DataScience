{
 "cells": [
  {
   "cell_type": "code",
   "execution_count": 54,
   "id": "ee5a38c0-415c-4082-86c2-366faa5fe14c",
   "metadata": {},
   "outputs": [],
   "source": [
    "import numpy as np"
   ]
  },
  {
   "cell_type": "code",
   "execution_count": 55,
   "id": "70628411-ece9-4d56-bed1-7d665b1af101",
   "metadata": {},
   "outputs": [
    {
     "name": "stdout",
     "output_type": "stream",
     "text": [
      "1D Array: \n",
      "[10 20 30 40 50]\n"
     ]
    }
   ],
   "source": [
    "#1.Introduction to Numpy and Array Creation\n",
    "#1.a\n",
    "arr1 = np.array([10,20,30,40,50])\n",
    "print(\"1D Array: \")\n",
    "print(arr1)"
   ]
  },
  {
   "cell_type": "code",
   "execution_count": 56,
   "id": "0b21f0b0-9f45-4751-9022-fa5eac8dc01f",
   "metadata": {},
   "outputs": [
    {
     "name": "stdout",
     "output_type": "stream",
     "text": [
      "2x3 0 array: \n",
      "[[0. 0. 0.]\n",
      " [0. 0. 0.]]\n"
     ]
    }
   ],
   "source": [
    "#1.b\n",
    "arr2 = np.zeros((2,3))\n",
    "print(\"2x3 0 array: \")\n",
    "print(arr2)"
   ]
  },
  {
   "cell_type": "code",
   "execution_count": 57,
   "id": "949afdd2-e19b-4df7-8081-ae37868d46eb",
   "metadata": {},
   "outputs": [
    {
     "name": "stdout",
     "output_type": "stream",
     "text": [
      "Number from 0 to 100 with space 5: \n",
      "[  0   5  10  15  20  25  30  35  40  45  50  55  60  65  70  75  80  85\n",
      "  90  95 100]\n"
     ]
    }
   ],
   "source": [
    "#1.c\n",
    "arr3 = np.arange(0,101,5)\n",
    "print(\"Number from 0 to 100 with space 5: \")\n",
    "print(arr3)"
   ]
  },
  {
   "cell_type": "code",
   "execution_count": 58,
   "id": "1ac8094d-e0d4-4cf1-b9d2-4e33824e329e",
   "metadata": {},
   "outputs": [
    {
     "name": "stdout",
     "output_type": "stream",
     "text": [
      "First 3 elements: \n",
      "[ 5 10 15]\n"
     ]
    }
   ],
   "source": [
    "#2.a\n",
    "arr4 = np.array([5,10,15,20,25,30])\n",
    "newarr4 = arr4[:3]\n",
    "print(\"First 3 elements: \")\n",
    "print(newarr4)"
   ]
  },
  {
   "cell_type": "code",
   "execution_count": 59,
   "id": "53c040d4-8249-433f-987b-cc6dfb4c09f8",
   "metadata": {},
   "outputs": [
    {
     "name": "stdout",
     "output_type": "stream",
     "text": [
      "Extracted every 2nd elements: \n",
      "[10 20 30]\n"
     ]
    }
   ],
   "source": [
    "#2.b\n",
    "arr4 = np.array([5,10,15,20,25,30])\n",
    "narr4 = arr4[1::2]\n",
    "print(\"Extracted every 2nd elements: \")\n",
    "print(narr4)"
   ]
  },
  {
   "cell_type": "code",
   "execution_count": 60,
   "id": "f4b05b2f-e032-4187-9c8e-b84b7ccb5074",
   "metadata": {},
   "outputs": [
    {
     "name": "stdout",
     "output_type": "stream",
     "text": [
      "After changing the 4th element to 50: \n",
      "[ 5 10 15 50 25 30]\n"
     ]
    }
   ],
   "source": [
    "#2.c\n",
    "arr4[3]=50\n",
    "print(\"After changing the 4th element to 50: \")\n",
    "print(arr4)"
   ]
  },
  {
   "cell_type": "code",
   "execution_count": 61,
   "id": "6d6d3a3d-426d-4463-88f4-ef4f4bcf2909",
   "metadata": {},
   "outputs": [
    {
     "name": "stdout",
     "output_type": "stream",
     "text": [
      "1D array from 1 to 12\n",
      "[ 1  2  3  4  5  6  7  8  9 10 11 12]\n"
     ]
    }
   ],
   "source": [
    "#3.a\n",
    "arr5 = np.arange(1,13)\n",
    "print(\"1D array from 1 to 12\")\n",
    "print(arr5)\n"
   ]
  },
  {
   "cell_type": "code",
   "execution_count": 62,
   "id": "ca593d68-2c5d-48fc-afeb-3b7885e21fe3",
   "metadata": {},
   "outputs": [
    {
     "name": "stdout",
     "output_type": "stream",
     "text": [
      "Reshaped array: \n",
      "[[ 1  2  3  4]\n",
      " [ 5  6  7  8]\n",
      " [ 9 10 11 12]]\n"
     ]
    }
   ],
   "source": [
    "#3.b\n",
    "arr5 = arr5.reshape(3,4)\n",
    "print(\"Reshaped array: \")\n",
    "print(arr5)"
   ]
  },
  {
   "cell_type": "code",
   "execution_count": 63,
   "id": "bc3d469b-21b0-49d0-9d24-c3de8a56f5fa",
   "metadata": {},
   "outputs": [
    {
     "name": "stdout",
     "output_type": "stream",
     "text": [
      "After adding 10 to each element: \n",
      "[11 12 13 14 15]\n"
     ]
    }
   ],
   "source": [
    "#4.a\n",
    "arr6 = np.array([1,2,3,4,5])\n",
    "print(\"After adding 10 to each element: \")\n",
    "print(np.add(arr6,10))"
   ]
  },
  {
   "cell_type": "code",
   "execution_count": 64,
   "id": "51c3620b-8d39-4041-8fd0-8f2d8c8d50b9",
   "metadata": {},
   "outputs": [
    {
     "name": "stdout",
     "output_type": "stream",
     "text": [
      "After multiplying 3 to each element: \n",
      "[ 3  6  9 12 15]\n"
     ]
    }
   ],
   "source": [
    "#4.b\n",
    "print(\"After multiplying 3 to each element: \")\n",
    "print(np.multiply(arr6,3))"
   ]
  },
  {
   "cell_type": "code",
   "execution_count": 65,
   "id": "83b26c0f-d98e-4a5a-abdb-40d0f4991fcb",
   "metadata": {},
   "outputs": [
    {
     "name": "stdout",
     "output_type": "stream",
     "text": [
      "After squaring the elements: \n",
      "1\n",
      "4\n",
      "9\n",
      "16\n",
      "25\n"
     ]
    }
   ],
   "source": [
    "#4.c\n",
    "print(\"After squaring the elements: \")\n",
    "for i in range(0,len(arr6)):\n",
    "    print(arr6[i]**2)"
   ]
  },
  {
   "cell_type": "code",
   "execution_count": 66,
   "id": "d0aa6d01-7f82-4877-a168-7360784d719a",
   "metadata": {},
   "outputs": [
    {
     "name": "stdout",
     "output_type": "stream",
     "text": [
      "Mean temperature: 31.0 \n"
     ]
    }
   ],
   "source": [
    "#5.a\n",
    "temp = np.array([30,32,31,29,28,33,34])\n",
    "print(f\"Mean temperature: {np.sum(temp)/len(temp)} \")"
   ]
  },
  {
   "cell_type": "code",
   "execution_count": 67,
   "id": "f712d928-81a0-4434-bcfe-9daa0d1e584c",
   "metadata": {},
   "outputs": [
    {
     "name": "stdout",
     "output_type": "stream",
     "text": [
      "Minimum temperature: 28 \n",
      "Maximum temperature: 34\n"
     ]
    }
   ],
   "source": [
    "#5.b\n",
    "print(f\"Minimum temperature: {np.min(temp)} \\nMaximum temperature: {np.max(temp)}\")"
   ]
  },
  {
   "cell_type": "code",
   "execution_count": 68,
   "id": "8492f6ea-758e-49ac-8e9b-5704276675f8",
   "metadata": {},
   "outputs": [
    {
     "name": "stdout",
     "output_type": "stream",
     "text": [
      "Sum of the temperatures: 217\n"
     ]
    }
   ],
   "source": [
    "#5.c\n",
    "print(f\"Sum of the temperatures: {np.sum(temp)}\")"
   ]
  },
  {
   "cell_type": "code",
   "execution_count": 69,
   "id": "fffa699a-eecf-405f-8575-c022bec9f992",
   "metadata": {},
   "outputs": [
    {
     "name": "stdout",
     "output_type": "stream",
     "text": [
      "[[200 220 250 270 300]\n",
      " [150 160 170 180 200]]\n",
      "Total Sales for first product: 1240 \n",
      "Total Sales for second product: 860 \n"
     ]
    }
   ],
   "source": [
    "#6.a\n",
    "product = np.array([200,220,250,270,300,150,160,170,180,200])\n",
    "product.resize((2,5))\n",
    "print(product)\n",
    "print(f\"Total Sales for first product: {np.sum(product[0][0:])} \")\n",
    "print(f\"Total Sales for second product: {np.sum(product[1][0:])} \")\n"
   ]
  },
  {
   "cell_type": "code",
   "execution_count": 70,
   "id": "9cb5bdbf-7c45-49fd-929f-7b4197648623",
   "metadata": {},
   "outputs": [
    {
     "name": "stdout",
     "output_type": "stream",
     "text": [
      "Average sales on Day-1: 175.0\n",
      "Average sales on Day-2: 190.0\n",
      "Average sales on Day-3: 210.0\n",
      "Average sales on Day-4: 225.0\n",
      "Average sales on Day-5: 250.0\n"
     ]
    }
   ],
   "source": [
    "#6.b\n",
    "for i in range(5):\n",
    "    val1 = product[0][i]\n",
    "    val2 = product[1][i]\n",
    "    avg = (val1+val2)/2\n",
    "    print(f\"Average sales on Day-{i+1}: {avg}\")"
   ]
  },
  {
   "cell_type": "code",
   "execution_count": 71,
   "id": "3a607851-e5bf-4a61-9af6-e4812dcfe665",
   "metadata": {},
   "outputs": [
    {
     "name": "stdout",
     "output_type": "stream",
     "text": [
      "Highest sales for Product-1 on Day-[4]\n",
      "Highest sales for Product-2 on Day-[4]\n"
     ]
    }
   ],
   "source": [
    "#6.c\n",
    "maxp1 = np.max(product[0][0:])\n",
    "maxp2 = np.max(product[1][0:])\n",
    "print(f\"Highest sales for Product-1 on Day-{np.where(product[0][0:]==maxp1)[0]}\")\n",
    "print(f\"Highest sales for Product-2 on Day-{np.where(product[1][0:]==maxp2)[0]}\")\n"
   ]
  },
  {
   "cell_type": "code",
   "execution_count": null,
   "id": "2614b11b-6dde-4078-b1f2-7308c5e7e90d",
   "metadata": {},
   "outputs": [],
   "source": []
  }
 ],
 "metadata": {
  "kernelspec": {
   "display_name": "Python 3 (ipykernel)",
   "language": "python",
   "name": "python3"
  },
  "language_info": {
   "codemirror_mode": {
    "name": "ipython",
    "version": 3
   },
   "file_extension": ".py",
   "mimetype": "text/x-python",
   "name": "python",
   "nbconvert_exporter": "python",
   "pygments_lexer": "ipython3",
   "version": "3.13.1"
  }
 },
 "nbformat": 4,
 "nbformat_minor": 5
}
