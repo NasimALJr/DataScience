{
 "cells": [
  {
   "cell_type": "code",
   "execution_count": 3,
   "id": "e88fda5c-74a0-4c69-848c-f253014a5021",
   "metadata": {},
   "outputs": [],
   "source": [
    "import pandas as pd\n",
    "import datetime"
   ]
  },
  {
   "cell_type": "markdown",
   "id": "194e9df2-d4f0-412f-b2e3-f8a8aee5dff8",
   "metadata": {},
   "source": [
    "1. Grouping and Aggregation"
   ]
  },
  {
   "cell_type": "code",
   "execution_count": 4,
   "id": "cb494c75-2234-445b-88ad-1f9b08d4567d",
   "metadata": {},
   "outputs": [
    {
     "data": {
      "text/html": [
       "<div>\n",
       "<style scoped>\n",
       "    .dataframe tbody tr th:only-of-type {\n",
       "        vertical-align: middle;\n",
       "    }\n",
       "\n",
       "    .dataframe tbody tr th {\n",
       "        vertical-align: top;\n",
       "    }\n",
       "\n",
       "    .dataframe thead th {\n",
       "        text-align: right;\n",
       "    }\n",
       "</style>\n",
       "<table border=\"1\" class=\"dataframe\">\n",
       "  <thead>\n",
       "    <tr style=\"text-align: right;\">\n",
       "      <th></th>\n",
       "      <th>Employee</th>\n",
       "      <th>Region</th>\n",
       "      <th>Sales</th>\n",
       "      <th>Year</th>\n",
       "    </tr>\n",
       "  </thead>\n",
       "  <tbody>\n",
       "    <tr>\n",
       "      <th>0</th>\n",
       "      <td>Alice</td>\n",
       "      <td>North</td>\n",
       "      <td>200</td>\n",
       "      <td>2023</td>\n",
       "    </tr>\n",
       "    <tr>\n",
       "      <th>1</th>\n",
       "      <td>Bob</td>\n",
       "      <td>South</td>\n",
       "      <td>150</td>\n",
       "      <td>2023</td>\n",
       "    </tr>\n",
       "    <tr>\n",
       "      <th>2</th>\n",
       "      <td>Alice</td>\n",
       "      <td>North</td>\n",
       "      <td>300</td>\n",
       "      <td>2024</td>\n",
       "    </tr>\n",
       "    <tr>\n",
       "      <th>3</th>\n",
       "      <td>Bob</td>\n",
       "      <td>South</td>\n",
       "      <td>400</td>\n",
       "      <td>2024</td>\n",
       "    </tr>\n",
       "    <tr>\n",
       "      <th>4</th>\n",
       "      <td>Charlie</td>\n",
       "      <td>North</td>\n",
       "      <td>100</td>\n",
       "      <td>2023</td>\n",
       "    </tr>\n",
       "    <tr>\n",
       "      <th>5</th>\n",
       "      <td>Alice</td>\n",
       "      <td>South</td>\n",
       "      <td>250</td>\n",
       "      <td>2024</td>\n",
       "    </tr>\n",
       "    <tr>\n",
       "      <th>6</th>\n",
       "      <td>Charlie</td>\n",
       "      <td>North</td>\n",
       "      <td>300</td>\n",
       "      <td>2024</td>\n",
       "    </tr>\n",
       "    <tr>\n",
       "      <th>7</th>\n",
       "      <td>Bob</td>\n",
       "      <td>North</td>\n",
       "      <td>350</td>\n",
       "      <td>2023</td>\n",
       "    </tr>\n",
       "  </tbody>\n",
       "</table>\n",
       "</div>"
      ],
      "text/plain": [
       "  Employee Region  Sales  Year\n",
       "0    Alice  North    200  2023\n",
       "1      Bob  South    150  2023\n",
       "2    Alice  North    300  2024\n",
       "3      Bob  South    400  2024\n",
       "4  Charlie  North    100  2023\n",
       "5    Alice  South    250  2024\n",
       "6  Charlie  North    300  2024\n",
       "7      Bob  North    350  2023"
      ]
     },
     "execution_count": 4,
     "metadata": {},
     "output_type": "execute_result"
    }
   ],
   "source": [
    "data = {\n",
    "    'Employee': ['Alice', 'Bob', 'Alice', 'Bob', 'Charlie', 'Alice', 'Charlie', 'Bob'],\n",
    "    'Region': ['North', 'South', 'North', 'South', 'North', 'South', 'North', 'North'],\n",
    "    'Sales': [200, 150, 300, 400, 100, 250, 300, 350],\n",
    "    'Year': [2023, 2023, 2024, 2024, 2023, 2024, 2024, 2023]\n",
    "}\n",
    "df = pd.DataFrame(data)\n",
    "df"
   ]
  },
  {
   "cell_type": "markdown",
   "id": "a53824ae-ece3-456c-9854-0d72fa73d7fe",
   "metadata": {},
   "source": [
    "1. Grouping and Aggregation\n",
    "   1. Group the data by Employee and calculate the total sales for each employee."
   ]
  },
  {
   "cell_type": "code",
   "execution_count": 5,
   "id": "e7071baf-1d67-4f39-b491-d7d609c8626d",
   "metadata": {},
   "outputs": [
    {
     "data": {
      "text/plain": [
       "Employee\n",
       "Alice      750\n",
       "Bob        900\n",
       "Charlie    400\n",
       "Name: Sales, dtype: int64"
      ]
     },
     "execution_count": 5,
     "metadata": {},
     "output_type": "execute_result"
    }
   ],
   "source": [
    "df.groupby('Employee').Sales.sum()"
   ]
  },
  {
   "cell_type": "markdown",
   "id": "ee3ab53d-bd73-4925-bf50-3a78da67d20a",
   "metadata": {},
   "source": [
    "1. Grouping and Aggregation\n",
    "   2. Group the data by Region and find the average sales per region."
   ]
  },
  {
   "cell_type": "code",
   "execution_count": 6,
   "id": "0d225ecb-6b28-417e-9a14-53c484cf1bd6",
   "metadata": {},
   "outputs": [
    {
     "data": {
      "text/plain": [
       "Region\n",
       "North    250.000000\n",
       "South    266.666667\n",
       "Name: Sales, dtype: float64"
      ]
     },
     "execution_count": 6,
     "metadata": {},
     "output_type": "execute_result"
    }
   ],
   "source": [
    "df.groupby('Region').Sales.mean()"
   ]
  },
  {
   "cell_type": "markdown",
   "id": "cc48071f-ddf5-499e-bbcf-9f853f916a5f",
   "metadata": {},
   "source": [
    "1. Grouping ang Aggregation\n",
    "   3. Group the data by both Employee and Year to calculate the total sales for each combination."
   ]
  },
  {
   "cell_type": "code",
   "execution_count": 7,
   "id": "8d43bede-67f4-4b3d-83f3-66d78028a12e",
   "metadata": {},
   "outputs": [
    {
     "data": {
      "text/plain": [
       "Employee  Year\n",
       "Alice     2023    200\n",
       "          2024    550\n",
       "Bob       2023    500\n",
       "          2024    400\n",
       "Charlie   2023    100\n",
       "          2024    300\n",
       "Name: Sales, dtype: int64"
      ]
     },
     "execution_count": 7,
     "metadata": {},
     "output_type": "execute_result"
    }
   ],
   "source": [
    "df.groupby(['Employee','Year']).Sales.sum()"
   ]
  },
  {
   "cell_type": "markdown",
   "id": "cc40d5aa-e4a0-43bb-bedc-01d37002cd7e",
   "metadata": {},
   "source": [
    "2. Merging and Concatenation\n",
    "   "
   ]
  },
  {
   "cell_type": "code",
   "execution_count": 8,
   "id": "82e232f7-9fd4-459f-93cd-aca16ec83a54",
   "metadata": {},
   "outputs": [
    {
     "data": {
      "text/html": [
       "<div>\n",
       "<style scoped>\n",
       "    .dataframe tbody tr th:only-of-type {\n",
       "        vertical-align: middle;\n",
       "    }\n",
       "\n",
       "    .dataframe tbody tr th {\n",
       "        vertical-align: top;\n",
       "    }\n",
       "\n",
       "    .dataframe thead th {\n",
       "        text-align: right;\n",
       "    }\n",
       "</style>\n",
       "<table border=\"1\" class=\"dataframe\">\n",
       "  <thead>\n",
       "    <tr style=\"text-align: right;\">\n",
       "      <th></th>\n",
       "      <th>Employee</th>\n",
       "      <th>Age</th>\n",
       "      <th>Department</th>\n",
       "    </tr>\n",
       "  </thead>\n",
       "  <tbody>\n",
       "    <tr>\n",
       "      <th>0</th>\n",
       "      <td>Alice</td>\n",
       "      <td>25</td>\n",
       "      <td>Sales</td>\n",
       "    </tr>\n",
       "    <tr>\n",
       "      <th>1</th>\n",
       "      <td>Bob</td>\n",
       "      <td>30</td>\n",
       "      <td>Sales</td>\n",
       "    </tr>\n",
       "    <tr>\n",
       "      <th>2</th>\n",
       "      <td>Charlie</td>\n",
       "      <td>35</td>\n",
       "      <td>Marketing</td>\n",
       "    </tr>\n",
       "    <tr>\n",
       "      <th>3</th>\n",
       "      <td>David</td>\n",
       "      <td>40</td>\n",
       "      <td>HR</td>\n",
       "    </tr>\n",
       "  </tbody>\n",
       "</table>\n",
       "</div>"
      ],
      "text/plain": [
       "  Employee  Age Department\n",
       "0    Alice   25      Sales\n",
       "1      Bob   30      Sales\n",
       "2  Charlie   35  Marketing\n",
       "3    David   40         HR"
      ]
     },
     "execution_count": 8,
     "metadata": {},
     "output_type": "execute_result"
    }
   ],
   "source": [
    "employee_details = pd.DataFrame({\n",
    "    'Employee': ['Alice', 'Bob', 'Charlie', 'David'],\n",
    "    'Age': [25, 30, 35, 40],\n",
    "    'Department': ['Sales', 'Sales', 'Marketing', 'HR']\n",
    "})\n",
    "sales_targets = pd.DataFrame({\n",
    "    'Employee': ['Alice', 'Bob', 'Charlie', 'David'],\n",
    "    'Sales_Target': [1000, 1200, 800, 500]\n",
    "})\n",
    "employee_details"
   ]
  },
  {
   "cell_type": "code",
   "execution_count": 19,
   "id": "fd468d60-71bc-4d39-a35f-1bebdf2adf94",
   "metadata": {},
   "outputs": [
    {
     "data": {
      "text/html": [
       "<div>\n",
       "<style scoped>\n",
       "    .dataframe tbody tr th:only-of-type {\n",
       "        vertical-align: middle;\n",
       "    }\n",
       "\n",
       "    .dataframe tbody tr th {\n",
       "        vertical-align: top;\n",
       "    }\n",
       "\n",
       "    .dataframe thead th {\n",
       "        text-align: right;\n",
       "    }\n",
       "</style>\n",
       "<table border=\"1\" class=\"dataframe\">\n",
       "  <thead>\n",
       "    <tr style=\"text-align: right;\">\n",
       "      <th></th>\n",
       "      <th>Employee</th>\n",
       "      <th>Sales_Target</th>\n",
       "    </tr>\n",
       "  </thead>\n",
       "  <tbody>\n",
       "    <tr>\n",
       "      <th>0</th>\n",
       "      <td>Alice</td>\n",
       "      <td>1000</td>\n",
       "    </tr>\n",
       "    <tr>\n",
       "      <th>1</th>\n",
       "      <td>Bob</td>\n",
       "      <td>1200</td>\n",
       "    </tr>\n",
       "    <tr>\n",
       "      <th>2</th>\n",
       "      <td>Charlie</td>\n",
       "      <td>800</td>\n",
       "    </tr>\n",
       "    <tr>\n",
       "      <th>3</th>\n",
       "      <td>David</td>\n",
       "      <td>500</td>\n",
       "    </tr>\n",
       "  </tbody>\n",
       "</table>\n",
       "</div>"
      ],
      "text/plain": [
       "  Employee  Sales_Target\n",
       "0    Alice          1000\n",
       "1      Bob          1200\n",
       "2  Charlie           800\n",
       "3    David           500"
      ]
     },
     "execution_count": 19,
     "metadata": {},
     "output_type": "execute_result"
    }
   ],
   "source": [
    "sales_targets"
   ]
  },
  {
   "cell_type": "markdown",
   "id": "46754d40-9071-4a6a-8c4e-54d56d24f032",
   "metadata": {},
   "source": [
    "2. Merging and Concatenation\n",
    "   1. Merge the two datasets on the Employee column to combine all details"
   ]
  },
  {
   "cell_type": "code",
   "execution_count": 9,
   "id": "d93b5660-66d2-456f-a6d2-6000817cfcbd",
   "metadata": {},
   "outputs": [
    {
     "data": {
      "text/html": [
       "<div>\n",
       "<style scoped>\n",
       "    .dataframe tbody tr th:only-of-type {\n",
       "        vertical-align: middle;\n",
       "    }\n",
       "\n",
       "    .dataframe tbody tr th {\n",
       "        vertical-align: top;\n",
       "    }\n",
       "\n",
       "    .dataframe thead th {\n",
       "        text-align: right;\n",
       "    }\n",
       "</style>\n",
       "<table border=\"1\" class=\"dataframe\">\n",
       "  <thead>\n",
       "    <tr style=\"text-align: right;\">\n",
       "      <th></th>\n",
       "      <th>Employee</th>\n",
       "      <th>Age</th>\n",
       "      <th>Department</th>\n",
       "      <th>Sales_Target</th>\n",
       "    </tr>\n",
       "  </thead>\n",
       "  <tbody>\n",
       "    <tr>\n",
       "      <th>0</th>\n",
       "      <td>Alice</td>\n",
       "      <td>25</td>\n",
       "      <td>Sales</td>\n",
       "      <td>1000</td>\n",
       "    </tr>\n",
       "    <tr>\n",
       "      <th>1</th>\n",
       "      <td>Bob</td>\n",
       "      <td>30</td>\n",
       "      <td>Sales</td>\n",
       "      <td>1200</td>\n",
       "    </tr>\n",
       "    <tr>\n",
       "      <th>2</th>\n",
       "      <td>Charlie</td>\n",
       "      <td>35</td>\n",
       "      <td>Marketing</td>\n",
       "      <td>800</td>\n",
       "    </tr>\n",
       "    <tr>\n",
       "      <th>3</th>\n",
       "      <td>David</td>\n",
       "      <td>40</td>\n",
       "      <td>HR</td>\n",
       "      <td>500</td>\n",
       "    </tr>\n",
       "  </tbody>\n",
       "</table>\n",
       "</div>"
      ],
      "text/plain": [
       "  Employee  Age Department  Sales_Target\n",
       "0    Alice   25      Sales          1000\n",
       "1      Bob   30      Sales          1200\n",
       "2  Charlie   35  Marketing           800\n",
       "3    David   40         HR           500"
      ]
     },
     "execution_count": 9,
     "metadata": {},
     "output_type": "execute_result"
    }
   ],
   "source": [
    "new = pd.merge(employee_details,sales_targets,on='Employee')\n",
    "new"
   ]
  },
  {
   "cell_type": "markdown",
   "id": "4db2c26c-f040-4a32-9ae5-931e362fbabc",
   "metadata": {},
   "source": [
    "2. Merging and Concatenation\n",
    "   2. Create a new column showing the difference between Sales_Target and total sales (calculated from Task 1)"
   ]
  },
  {
   "cell_type": "code",
   "execution_count": 10,
   "id": "bcd69f51-fc2b-41b5-9566-e4e26a838d68",
   "metadata": {},
   "outputs": [
    {
     "data": {
      "text/plain": [
       "0     800.0\n",
       "1    1050.0\n",
       "2     500.0\n",
       "3     100.0\n",
       "Name: New_Column, dtype: float64"
      ]
     },
     "execution_count": 10,
     "metadata": {},
     "output_type": "execute_result"
    }
   ],
   "source": [
    "new['New_Column'] = new.Sales_Target - df.Sales\n",
    "new.New_Column"
   ]
  },
  {
   "cell_type": "markdown",
   "id": "b5eb07e8-20dc-4aea-a261-1f544ecccbdb",
   "metadata": {},
   "source": [
    "3. Working with Time-Series Data\n",
    "   "
   ]
  },
  {
   "cell_type": "code",
   "execution_count": 11,
   "id": "01576a83-63be-45b9-a440-57825004a451",
   "metadata": {},
   "outputs": [
    {
     "data": {
      "text/html": [
       "<div>\n",
       "<style scoped>\n",
       "    .dataframe tbody tr th:only-of-type {\n",
       "        vertical-align: middle;\n",
       "    }\n",
       "\n",
       "    .dataframe tbody tr th {\n",
       "        vertical-align: top;\n",
       "    }\n",
       "\n",
       "    .dataframe thead th {\n",
       "        text-align: right;\n",
       "    }\n",
       "</style>\n",
       "<table border=\"1\" class=\"dataframe\">\n",
       "  <thead>\n",
       "    <tr style=\"text-align: right;\">\n",
       "      <th></th>\n",
       "      <th>Date</th>\n",
       "      <th>Price</th>\n",
       "    </tr>\n",
       "  </thead>\n",
       "  <tbody>\n",
       "    <tr>\n",
       "      <th>0</th>\n",
       "      <td>2024-01-01</td>\n",
       "      <td>100</td>\n",
       "    </tr>\n",
       "    <tr>\n",
       "      <th>1</th>\n",
       "      <td>2024-01-02</td>\n",
       "      <td>102</td>\n",
       "    </tr>\n",
       "    <tr>\n",
       "      <th>2</th>\n",
       "      <td>2024-01-03</td>\n",
       "      <td>105</td>\n",
       "    </tr>\n",
       "    <tr>\n",
       "      <th>3</th>\n",
       "      <td>2024-01-04</td>\n",
       "      <td>107</td>\n",
       "    </tr>\n",
       "    <tr>\n",
       "      <th>4</th>\n",
       "      <td>2024-01-05</td>\n",
       "      <td>110</td>\n",
       "    </tr>\n",
       "  </tbody>\n",
       "</table>\n",
       "</div>"
      ],
      "text/plain": [
       "         Date  Price\n",
       "0  2024-01-01    100\n",
       "1  2024-01-02    102\n",
       "2  2024-01-03    105\n",
       "3  2024-01-04    107\n",
       "4  2024-01-05    110"
      ]
     },
     "execution_count": 11,
     "metadata": {},
     "output_type": "execute_result"
    }
   ],
   "source": [
    "stock_prices = pd.DataFrame({\n",
    "    'Date': ['2024-01-01', '2024-01-02', '2024-01-03', '2024-01-04', '2024-01-05'],\n",
    "    'Price': [100, 102, 105, 107, 110]\n",
    "})\n",
    "stock_prices"
   ]
  },
  {
   "cell_type": "markdown",
   "id": "9be0d348-497a-4897-8e1a-6b5de92b7507",
   "metadata": {},
   "source": [
    "3. Wowking with Time-Series Data\n",
    "   1. Convert the Date column to a datetime object."
   ]
  },
  {
   "cell_type": "code",
   "execution_count": 12,
   "id": "ad2553bf-900d-4e42-944d-f12ef197e830",
   "metadata": {},
   "outputs": [
    {
     "data": {
      "text/plain": [
       "0   2024-01-01\n",
       "1   2024-01-02\n",
       "2   2024-01-03\n",
       "3   2024-01-04\n",
       "4   2024-01-05\n",
       "Name: Date, dtype: datetime64[ns]"
      ]
     },
     "execution_count": 12,
     "metadata": {},
     "output_type": "execute_result"
    }
   ],
   "source": [
    "stock_prices.Date = pd.to_datetime(stock_prices.Date)\n",
    "stock_prices.Date"
   ]
  },
  {
   "cell_type": "markdown",
   "id": "b4683ea9-3edd-4156-b48c-75fc810679bd",
   "metadata": {},
   "source": [
    "3. Working with Time-Series Data\n",
    "  B. Resample the data to calculate the weekly average price."
   ]
  },
  {
   "cell_type": "code",
   "execution_count": 13,
   "id": "4b6fbe21-fca3-468a-b749-f4e19ec6e18a",
   "metadata": {},
   "outputs": [
    {
     "name": "stdout",
     "output_type": "stream",
     "text": [
      "104.8\n"
     ]
    }
   ],
   "source": [
    "print(stock_prices.Price.mean())"
   ]
  },
  {
   "cell_type": "markdown",
   "id": "fa162b66-c684-49e7-9d22-e98276c83b29",
   "metadata": {},
   "source": [
    "3. Working with Time-Series Data\n",
    "   3. Find the day with the highest stock price."
   ]
  },
  {
   "cell_type": "code",
   "execution_count": 14,
   "id": "25f7e0b9-4dd5-49a0-a11a-ad41c4d0fc5d",
   "metadata": {},
   "outputs": [
    {
     "name": "stdout",
     "output_type": "stream",
     "text": [
      "2024-01-05 00:00:00\n"
     ]
    }
   ],
   "source": [
    "\n",
    "print(stock_prices.loc[stock_prices.Price.idxmax(),'Date'])"
   ]
  },
  {
   "cell_type": "markdown",
   "id": "b6d50dcc-9c0a-4e9c-a2cb-4a1c5921c824",
   "metadata": {},
   "source": [
    "4. Pivot table and cross tabulation\n",
    "   1. Create a pivot table to find the total sales by Region and Year"
   ]
  },
  {
   "cell_type": "code",
   "execution_count": 15,
   "id": "28b042c2-884a-43d7-b160-c9e093015ecf",
   "metadata": {},
   "outputs": [
    {
     "data": {
      "text/html": [
       "<div>\n",
       "<style scoped>\n",
       "    .dataframe tbody tr th:only-of-type {\n",
       "        vertical-align: middle;\n",
       "    }\n",
       "\n",
       "    .dataframe tbody tr th {\n",
       "        vertical-align: top;\n",
       "    }\n",
       "\n",
       "    .dataframe thead tr th {\n",
       "        text-align: left;\n",
       "    }\n",
       "\n",
       "    .dataframe thead tr:last-of-type th {\n",
       "        text-align: right;\n",
       "    }\n",
       "</style>\n",
       "<table border=\"1\" class=\"dataframe\">\n",
       "  <thead>\n",
       "    <tr>\n",
       "      <th>Region</th>\n",
       "      <th colspan=\"2\" halign=\"left\">North</th>\n",
       "      <th colspan=\"2\" halign=\"left\">South</th>\n",
       "    </tr>\n",
       "    <tr>\n",
       "      <th>Year</th>\n",
       "      <th>2023</th>\n",
       "      <th>2024</th>\n",
       "      <th>2023</th>\n",
       "      <th>2024</th>\n",
       "    </tr>\n",
       "    <tr>\n",
       "      <th>Employee</th>\n",
       "      <th></th>\n",
       "      <th></th>\n",
       "      <th></th>\n",
       "      <th></th>\n",
       "    </tr>\n",
       "  </thead>\n",
       "  <tbody>\n",
       "    <tr>\n",
       "      <th>Alice</th>\n",
       "      <td>200.0</td>\n",
       "      <td>300.0</td>\n",
       "      <td>NaN</td>\n",
       "      <td>250.0</td>\n",
       "    </tr>\n",
       "    <tr>\n",
       "      <th>Bob</th>\n",
       "      <td>350.0</td>\n",
       "      <td>NaN</td>\n",
       "      <td>150.0</td>\n",
       "      <td>400.0</td>\n",
       "    </tr>\n",
       "    <tr>\n",
       "      <th>Charlie</th>\n",
       "      <td>100.0</td>\n",
       "      <td>300.0</td>\n",
       "      <td>NaN</td>\n",
       "      <td>NaN</td>\n",
       "    </tr>\n",
       "  </tbody>\n",
       "</table>\n",
       "</div>"
      ],
      "text/plain": [
       "Region    North         South       \n",
       "Year       2023   2024   2023   2024\n",
       "Employee                            \n",
       "Alice     200.0  300.0    NaN  250.0\n",
       "Bob       350.0    NaN  150.0  400.0\n",
       "Charlie   100.0  300.0    NaN    NaN"
      ]
     },
     "execution_count": 15,
     "metadata": {},
     "output_type": "execute_result"
    }
   ],
   "source": [
    "pivot = df.pivot_table(index='Employee',columns=['Region','Year'],values='Sales',aggfunc='sum')\n",
    "pivot"
   ]
  },
  {
   "cell_type": "markdown",
   "id": "c74f0651-edc6-421f-b9d3-2d9e69c882e6",
   "metadata": {},
   "source": [
    "4. Pivot table and cross tabulation\n",
    "   2. Create a cross-tabulation showing the count of employees working in each Region for each Year."
   ]
  },
  {
   "cell_type": "code",
   "execution_count": 16,
   "id": "b014e097-1127-4711-9937-e749e77635a2",
   "metadata": {},
   "outputs": [
    {
     "data": {
      "text/html": [
       "<div>\n",
       "<style scoped>\n",
       "    .dataframe tbody tr th:only-of-type {\n",
       "        vertical-align: middle;\n",
       "    }\n",
       "\n",
       "    .dataframe tbody tr th {\n",
       "        vertical-align: top;\n",
       "    }\n",
       "\n",
       "    .dataframe thead th {\n",
       "        text-align: right;\n",
       "    }\n",
       "</style>\n",
       "<table border=\"1\" class=\"dataframe\">\n",
       "  <thead>\n",
       "    <tr style=\"text-align: right;\">\n",
       "      <th>Region</th>\n",
       "      <th>North</th>\n",
       "      <th>South</th>\n",
       "      <th>All</th>\n",
       "    </tr>\n",
       "    <tr>\n",
       "      <th>Year</th>\n",
       "      <th></th>\n",
       "      <th></th>\n",
       "      <th></th>\n",
       "    </tr>\n",
       "  </thead>\n",
       "  <tbody>\n",
       "    <tr>\n",
       "      <th>2023</th>\n",
       "      <td>3</td>\n",
       "      <td>1</td>\n",
       "      <td>4</td>\n",
       "    </tr>\n",
       "    <tr>\n",
       "      <th>2024</th>\n",
       "      <td>2</td>\n",
       "      <td>2</td>\n",
       "      <td>4</td>\n",
       "    </tr>\n",
       "    <tr>\n",
       "      <th>All</th>\n",
       "      <td>5</td>\n",
       "      <td>3</td>\n",
       "      <td>8</td>\n",
       "    </tr>\n",
       "  </tbody>\n",
       "</table>\n",
       "</div>"
      ],
      "text/plain": [
       "Region  North  South  All\n",
       "Year                     \n",
       "2023        3      1    4\n",
       "2024        2      2    4\n",
       "All         5      3    8"
      ]
     },
     "execution_count": 16,
     "metadata": {},
     "output_type": "execute_result"
    }
   ],
   "source": [
    "pd.crosstab(df['Year'],df['Region'],margins='True')"
   ]
  },
  {
   "cell_type": "markdown",
   "id": "d719ac4c-8f93-4214-ab67-6cbf17b556a9",
   "metadata": {},
   "source": [
    "5. Exporting Data\n",
    "   1. Save the final merged dataset (from Task 2) to a CSV file named employee_sales.csv."
   ]
  },
  {
   "cell_type": "code",
   "execution_count": 70,
   "id": "a1194ec8-2f20-4633-b93e-b24cb47b03b1",
   "metadata": {},
   "outputs": [],
   "source": [
    "new.to_csv(\"employee_sales.csv\")"
   ]
  },
  {
   "cell_type": "markdown",
   "id": "ae365145-71c8-422b-8122-06fdacd8f3cf",
   "metadata": {},
   "source": [
    "5. Exporting Data\n",
    "   2. Save the pivot table (from Task 4) to an Excel file named sales_summary.xlsx."
   ]
  },
  {
   "cell_type": "code",
   "execution_count": 1,
   "id": "afc0e5ab-553f-47e5-9b5f-0790f32cc2d4",
   "metadata": {},
   "outputs": [
    {
     "ename": "NameError",
     "evalue": "name 'pivot' is not defined",
     "output_type": "error",
     "traceback": [
      "\u001b[1;31m---------------------------------------------------------------------------\u001b[0m",
      "\u001b[1;31mNameError\u001b[0m                                 Traceback (most recent call last)",
      "Cell \u001b[1;32mIn[1], line 1\u001b[0m\n\u001b[1;32m----> 1\u001b[0m \u001b[43mpivot\u001b[49m\u001b[38;5;241m.\u001b[39mto_excel(\u001b[38;5;124m\"\u001b[39m\u001b[38;5;124msales_summmary.xlsx\u001b[39m\u001b[38;5;124m\"\u001b[39m)\n",
      "\u001b[1;31mNameError\u001b[0m: name 'pivot' is not defined"
     ]
    }
   ],
   "source": [
    "pivot.to_excel(\"sales_summmary.xlsx\")"
   ]
  },
  {
   "cell_type": "code",
   "execution_count": null,
   "id": "557c8724-7f6b-48b3-bd46-b1df16fa0bdd",
   "metadata": {},
   "outputs": [],
   "source": []
  }
 ],
 "metadata": {
  "kernelspec": {
   "display_name": "Python 3 (ipykernel)",
   "language": "python",
   "name": "python3"
  },
  "language_info": {
   "codemirror_mode": {
    "name": "ipython",
    "version": 3
   },
   "file_extension": ".py",
   "mimetype": "text/x-python",
   "name": "python",
   "nbconvert_exporter": "python",
   "pygments_lexer": "ipython3",
   "version": "3.13.1"
  }
 },
 "nbformat": 4,
 "nbformat_minor": 5
}
